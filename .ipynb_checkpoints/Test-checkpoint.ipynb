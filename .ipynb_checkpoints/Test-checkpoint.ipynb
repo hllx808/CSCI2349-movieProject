{
 "cells": [
  {
   "cell_type": "markdown",
   "id": "13e3c73d",
   "metadata": {
    "heading_collapsed": true
   },
   "source": [
    "# Initialized data into dataframe to later manipulate "
   ]
  },
  {
   "cell_type": "code",
   "execution_count": 1,
   "id": "b9c6920c",
   "metadata": {
    "hidden": true
   },
   "outputs": [],
   "source": [
    "import pandas as pd\n",
    "\n",
    "# make sure you imported the kaggle dataset and have it on the same directory as this. \n",
    "file = \"wiki_movie_plots_deduped.csv\"\n",
    "\n",
    "dataFrame = pd.read_csv(file) #like 2d array \n"
   ]
  },
  {
   "cell_type": "markdown",
   "id": "e585d346",
   "metadata": {},
   "source": [
    "# Some Debug Functions (to filter and mess with data)"
   ]
  },
  {
   "cell_type": "code",
   "execution_count": 2,
   "id": "802d45c9",
   "metadata": {},
   "outputs": [
    {
     "name": "stdout",
     "output_type": "stream",
     "text": [
      "functions initialized\n"
     ]
    }
   ],
   "source": [
    "def displayFromDataFrame(frame, numValues, keyF):\n",
    "    \"\"\"using pandas dataframe object created from a csv file, look at each movie/thing (by row)\n",
    "        by key param it will print the first n values in the dataframe \n",
    "        use: to better understand pandas \n",
    "    \"\"\"\n",
    "    for index, row in frame.iterrows():   #frame is a pandas dataframe of a csv file framX[\"ColumnName\"][index] \n",
    "        if index >= numValues:\n",
    "            break\n",
    "        value = row[keyF]\n",
    "        print(value)\n",
    "\"\"\"\n",
    "rows genre txt\n",
    "0     x     ....\n",
    "\"\"\"\n",
    "\n",
    "def remove_nested_brackets(text):\n",
    "    # Regular expression to match and remove content within nested square brackets\n",
    "    square_brackets_pattern = r'\\[[^\\[\\]]*\\]'\n",
    "    \n",
    "    # Regular expression to match and remove content within nested angle brackets\n",
    "    angle_brackets_pattern = r'<[^<>]*>'\n",
    "    \n",
    "    # Define a function to recursively remove nested brackets\n",
    "    def remove_nested(text):\n",
    "        # Remove content within square brackets\n",
    "        text_without_square_brackets = re.sub(square_brackets_pattern, '', text)\n",
    "        # Remove content within angle brackets\n",
    "        text_without_angle_brackets = re.sub(angle_brackets_pattern, '', text_without_square_brackets)\n",
    "        \n",
    "        # Check if there are any nested brackets left\n",
    "        if re.search(square_brackets_pattern, text_without_angle_brackets) or re.search(angle_brackets_pattern, text_without_angle_brackets):\n",
    "            # If nested brackets are found, recursively remove them\n",
    "            return remove_nested(text_without_angle_brackets)\n",
    "        else:\n",
    "            # If no more nested brackets are found, return the modified text\n",
    "            return text_without_angle_brackets\n",
    "\n",
    "    # Call the recursive function\n",
    "    result = remove_nested(text)\n",
    "    return result\n",
    "\n",
    "\n",
    "print(\"functions initialized\")"
   ]
  },
  {
   "cell_type": "markdown",
   "id": "7e5247ca",
   "metadata": {},
   "source": [
    "# Gather the movies into the genrePlot dictionary "
   ]
  },
  {
   "cell_type": "code",
   "execution_count": 3,
   "id": "fb916fbd",
   "metadata": {},
   "outputs": [],
   "source": [
    "# Gather the ,movies into the genrePlot dictionary \n",
    "\n",
    "selected_col = dataFrame[[\"Genre\", \"Plot\"]] # columns from the csv that we want to focus on\n",
    "\n",
    "selected_genres = [\"comedy\", \"drama\", \"adventure\", \"fantasy\", \n",
    "                  \"horror\", \"mystery\", \"romance\", \n",
    "                 \"action\", \"thriller\", \"western\"] # select 10 genres\n",
    "\n",
    "#dict\n",
    "genre_plot = {}\n",
    "\n",
    "#iter through rows (movie) in data frame \n",
    "for index, row in selected_col.iterrows():\n",
    "    curGenre = row['Genre']\n",
    "    curPlot = row['Plot']\n",
    "    \n",
    "    if curGenre not in selected_genres:     \n",
    "        #skip over this movie if it's genre is not one we're looking for \n",
    "        continue    \n",
    "    if curGenre not in genre_plot:          \n",
    "        #if cur movies genre hasn't been added to dict yet -> add that genre title with that plot as it's value\n",
    "        genre_plot[curGenre] = [curPlot]\n",
    "    elif len(genre_plot[curGenre]) < 250:\n",
    "        #since this genre is in the dict -> now make sure that genre key hasn't surpassed having 250 entries \n",
    "        genre_plot[curGenre].append(curPlot)\n",
    "            "
   ]
  },
  {
   "cell_type": "markdown",
   "id": "e5f722f9",
   "metadata": {},
   "source": [
    "# LLX CODE FOR PROJECT:"
   ]
  },
  {
   "cell_type": "markdown",
   "id": "1c5ad8ed",
   "metadata": {},
   "source": [
    "## Goal: Create unigrams for the 10 different genres \n",
    "- create word clouds with this \n",
    "- "
   ]
  },
  {
   "cell_type": "code",
   "execution_count": 68,
   "id": "c6c0f626",
   "metadata": {},
   "outputs": [
    {
     "name": "stdout",
     "output_type": "stream",
     "text": [
      "Genre: comedy (most frequently occuring words found)\n",
      "man\n",
      "woman\n",
      "two\n",
      "young\n",
      "back\n",
      "girl\n",
      "love\n",
      "Harold\n",
      "Charlie\n",
      "wife\n",
      "\n",
      "Genre: drama (most frequently occuring words found)\n",
      "love\n",
      "father\n",
      "film\n",
      "John\n",
      "man\n",
      "wife\n",
      "home\n",
      "goes\n",
      "son\n",
      "tells\n",
      "\n",
      "Genre: adventure (most frequently occuring words found)\n",
      "ship\n",
      "men\n",
      "back\n",
      "two\n",
      "love\n",
      "Jim\n",
      "King\n",
      "island\n",
      "father\n",
      "find\n",
      "\n",
      "Genre: fantasy (most frequently occuring words found)\n",
      "back\n",
      "father\n",
      "tells\n",
      "two\n",
      "home\n",
      "time\n",
      "find\n",
      "life\n",
      "finds\n",
      "Harry\n",
      "\n",
      "Genre: horror (most frequently occuring words found)\n",
      "Dr.\n",
      "house\n",
      "death\n",
      "tells\n",
      "night\n",
      "body\n",
      "finds\n",
      "man\n",
      "back\n",
      "room\n",
      "\n",
      "Genre: mystery (most frequently occuring words found)\n",
      "police\n",
      "Holmes\n",
      "finds\n",
      "murder\n",
      "man\n",
      "Chan\n",
      "tells\n",
      "Tom\n",
      "killed\n",
      "dead\n",
      "\n",
      "Genre: romance (most frequently occuring words found)\n",
      "love\n",
      "father\n",
      "tells\n",
      "life\n",
      "home\n",
      "back\n",
      "time\n",
      "two\n",
      "goes\n",
      "day\n",
      "\n",
      "Genre: action (most frequently occuring words found)\n",
      "police\n",
      "killed\n",
      "men\n",
      "two\n",
      "gang\n",
      "kill\n",
      "car\n",
      "back\n",
      "find\n",
      "help\n",
      "\n",
      "Genre: thriller (most frequently occuring words found)\n",
      "police\n",
      "tells\n",
      "car\n",
      "house\n",
      "man\n",
      "back\n",
      "home\n",
      "two\n",
      "killed\n",
      "finds\n",
      "\n",
      "Genre: western (most frequently occuring words found)\n",
      "Gene\n",
      "town\n",
      "ranch\n",
      "men\n",
      "gang\n",
      "back\n",
      "father\n",
      "cattle\n",
      "Jim\n",
      "John\n",
      "\n"
     ]
    }
   ],
   "source": [
    "import nltk, re, glob\n",
    "from nltk.corpus import stopwords \n",
    "\n",
    "#generate and print frequency for words in a UNIGRAM for genre topic (TAKES TOKEN AS INPUT):\n",
    "def printUnigramData(curGenre, tokens, n, printBool):\n",
    "    #param: already a freq dist \n",
    "    #n: top 10 or more values to print out\n",
    "    #return: a list of the top values \n",
    "    unigram = nltk.ngrams(tokens, 1)\n",
    "    unigramL = list(unigram)\n",
    "    unigramFreq = nltk.FreqDist(unigramL)\n",
    "    if printBool:\n",
    "        print(\"Genre:\", curGenre, \"(most frequently occuring words found)\")\n",
    "    popularWords = []\n",
    "    popularUnigrams = unigramFreq.most_common(n)\n",
    "    for unigramObj in popularUnigrams:\n",
    "        unigram = unigramObj[0]\n",
    "        if printBool:\n",
    "            print(unigram[0]) #, unigramObj[1]) #name of word and freq of word \n",
    "        popularWords.append(unigram[0])\n",
    "    if printBool:\n",
    "        print()\n",
    "    return popularWords\n",
    "\n",
    "stopList = stopwords.words('english')\n",
    "stopList.extend([\")\", \"(\", \".\", \",\", \"?\", \"could\", \"would\", \"“\", \"”\", \"’\", \";\", \"!\",\"much\", \"like\", \"one\", \"many\", \"though\", \"without\", \"upon\"])\n",
    "stopList.extend([\"''\", \"``\", \"'s\", 'get', 'also'])\n",
    "\n",
    "#iterate through each large genre list -> textChunk -> tokens -> noStopTokens -> unigram -> freq object \n",
    "genreUnigrams = {}\n",
    "for curGenre in selected_genres:\n",
    "    plotsList = genre_plot[curGenre]\n",
    "    genresTexts = \" \".join(plotsList) #now text chunk\n",
    "    #remove spacing\n",
    "    genresTexts = re.sub(r'[\\n|\\s]+', ' ', genresTexts)\n",
    "    genresTexts = remove_nested_brackets(genresTexts)\n",
    "    #tokenize\n",
    "    tokens = nltk.word_tokenize(genresTexts)\n",
    "    #remove stop words \n",
    "    noStop_tokens = [w for w in tokens if w.lower() not in stopList]\n",
    "    #unigram the genre \n",
    "    #iterate through top ten object to display unigram findings \n",
    "        #topTen = unigramFreq.most_common(10) #took off and now in funct \n",
    "    popularWords = printUnigramData(curGenre, noStop_tokens, 10, True) #CREATES AND PRINTS TOP 10 \n",
    "    #print(noStop_tokens)\n",
    "    genreUnigrams[curGenre] = [noStop_tokens, popularWords]\n",
    "\n",
    "#genreUnigrams dict: GENRE{ filtered tokens , popular words }\n",
    "\n",
    "#comedy, drama, adventure, fantasy, horror, mystery, romance,action, thriller, western"
   ]
  },
  {
   "cell_type": "markdown",
   "id": "40f9bbf7",
   "metadata": {},
   "source": [
    "## Frequency (filtered) Remove Generics like names and other people nouns\n",
    "- source: https://gist.github.com/sebleier/554280 \n",
    "- txt file with stop list should be included in rep "
   ]
  },
  {
   "cell_type": "code",
   "execution_count": 99,
   "id": "ea07d2a2",
   "metadata": {},
   "outputs": [],
   "source": [
    "with open(\"extensiveStopList.txt\", \"r\", encoding='utf=8') as fileO:\n",
    "    extensiveStopListTxt = fileO.read()"
   ]
  },
  {
   "cell_type": "code",
   "execution_count": 105,
   "id": "ebcf6b82",
   "metadata": {},
   "outputs": [
    {
     "name": "stdout",
     "output_type": "stream",
     "text": [
      "Success: created extensiveStopList variable\n"
     ]
    }
   ],
   "source": [
    "filterStop = extensiveStopListTxt.split(\",\")\n",
    "if len(filterStop) == 1160:\n",
    "    print(\"Success: created extensiveStopList variable\")"
   ]
  },
  {
   "cell_type": "code",
   "execution_count": 106,
   "id": "8329d01f",
   "metadata": {},
   "outputs": [
    {
     "name": "stdout",
     "output_type": "stream",
     "text": [
      "1160\n",
      "1173\n",
      "1205\n"
     ]
    }
   ],
   "source": [
    "print(len(filterStop))\n",
    "filterStop.extend([w for w in stopList if w not in filterStop])\n",
    "print(len(filterStop))\n",
    "#get out characters...\n",
    "stopNames = [\"man\", \"woman\", \"jim\", \"john\", \"jack\", \"harry\", \"chan\", \"tom\", \"father\", \"mother\", \"son\", \"daughter\", \"tells\", \"gene\", \"keaton\", \"harold\", \"charlie\", \"husband\", \"wife\", \"girl\", \"buster\", \"mrs.\", \"men\", \"Dr.\", \"paul\", \"billy\", \"martin\", \"david\", \"kate\", \"george\", \"joe\", \"alice\"]\n",
    "filterStop.extend([w for w in stopNames if w not in filterStop])\n",
    "print(len(filterStop))"
   ]
  },
  {
   "cell_type": "code",
   "execution_count": 84,
   "id": "7eec8f71",
   "metadata": {},
   "outputs": [
    {
     "name": "stdout",
     "output_type": "stream",
     "text": [
      "Done\n"
     ]
    }
   ],
   "source": [
    "#iterate through each large genre list -> textChunk -> tokens -> noStopTokens -> unigram -> freq object \n",
    "genreUnigrams = {}\n",
    "for curGenre in selected_genres:\n",
    "    plotsList = genre_plot[curGenre]\n",
    "    genresTexts = \" \".join(plotsList) #now text chunk\n",
    "    #remove spacing\n",
    "    genresTexts = re.sub(r'[\\n|\\s]+', ' ', genresTexts)\n",
    "    genresTexts = remove_nested_brackets(genresTexts)\n",
    "    #tokenize\n",
    "    tokens = nltk.word_tokenize(genresTexts)\n",
    "    #remove stop words \n",
    "    noStop_tokens = [w for w in tokens if w.lower() not in filterStop]\n",
    "    #unigram the genre \n",
    "    #iterate through top ten object to display unigram findings \n",
    "        #topTen = unigramFreq.most_common(10) #took off and now in funct \n",
    "    popularWords = printUnigramData(curGenre, noStop_tokens, 10, False) #CREATES AND PRINTS TOP 10 \n",
    "    #print(noStop_tokens)\n",
    "    genreUnigrams[curGenre] = [noStop_tokens, popularWords]\n",
    "print(\"Done\")"
   ]
  },
  {
   "cell_type": "markdown",
   "id": "34e0adc4",
   "metadata": {},
   "source": [
    "## Word Cloud  "
   ]
  },
  {
   "cell_type": "code",
   "execution_count": null,
   "id": "7c134057",
   "metadata": {},
   "outputs": [],
   "source": [
    "#Wordcloud\n",
    "import matplotlib.pyplot as plt \n",
    "from wordcloud import WordCloud\n",
    "\n",
    "def createCloud(tokens_as_string):\n",
    "    wordcloud = WordCloud(max_font_size=40, collocations=False).generate(tokens_as_string)\n",
    "    plt.figure\n",
    "    plt.imshow(wordcloud, interpolation=\"bilinear\")\n",
    "    plt.axis(\"off\")\n",
    "    plt.show()\n",
    "\n",
    "#using genreUnigrams obj in function\n",
    "def displayGenreInfo(genre):\n",
    "    print(genre)\n",
    "    print(genreUnigrams[genre][1])\n",
    "    genreTokens = genreUnigrams[genre][0]\n",
    "    genreTxt = \" \".join(genreTokens)\n",
    "    createCloud(genreTxt)\n",
    "\n",
    "#redundant???\n",
    "def compareTwo(*argv):\n",
    "    for arg in argv:\n",
    "        displayGenreInfo(arg)\n",
    "\n",
    "compareTwo(\"comedy\", \"mystery\", \"thriller\")\n",
    "\n",
    "#0: tokens | 1: popular words calculated earlier \n",
    "#comedy, drama, adventure, fantasy, horror, mystery, romance,action, thriller, western"
   ]
  },
  {
   "cell_type": "code",
   "execution_count": null,
   "id": "05f94a0e",
   "metadata": {},
   "outputs": [],
   "source": [
    "#create a more official representation of data  ???"
   ]
  },
  {
   "cell_type": "markdown",
   "id": "98006d58",
   "metadata": {
    "heading_collapsed": true
   },
   "source": [
    "# Debug Explain code variables"
   ]
  },
  {
   "cell_type": "code",
   "execution_count": 28,
   "id": "82622990",
   "metadata": {
    "hidden": true
   },
   "outputs": [
    {
     "name": "stdout",
     "output_type": "stream",
     "text": [
      "Kansas Saloon Smashers\n",
      "Love by the Light of the Moon\n",
      "The Martyred Presidents\n",
      "Terrible Teddy, the Grizzly King\n",
      "Jack and the Beanstalk\n",
      "Alice in Wonderland\n",
      "The Great Train Robbery\n",
      "The Suburbanite\n",
      "The Little Train Robbery\n",
      "The Night Before Christmas\n",
      "Dream of a Rarebit Fiend\n",
      "From Leadville to Aspen: A Hold-Up in the Rockies\n",
      "Kathleen Mavourneen\n",
      "Daniel Boone\n",
      "How Brown Saw the Baseball Game\n",
      "Laughing Gas\n",
      "The Adventures of Dollie\n",
      "The Black Viper\n",
      "A Calamitous Elopement\n",
      "The Call of the Wild\n"
     ]
    }
   ],
   "source": [
    "#selected_col is a dictionary array, using Genre -> a value in it can be found \n",
    "#print(selected_col[\"Genre\"])\n",
    "\n",
    "displayFromDataFrame(dataFrame, 20, \"Title\")\n"
   ]
  },
  {
   "cell_type": "markdown",
   "id": "14443f07",
   "metadata": {},
   "source": [
    "# My tests\n",
    "- using dataframe object \n",
    "- to filter columns into smaller dataframe object: `smaller = df[ [\"col1\"],[\"col2\"] ]`"
   ]
  },
  {
   "cell_type": "markdown",
   "id": "7c80fff7",
   "metadata": {
    "heading_collapsed": true
   },
   "source": [
    "## goal: create folder with 10 subfolders for the genres inputted\n",
    "    - minor/not important"
   ]
  },
  {
   "cell_type": "code",
   "execution_count": 37,
   "id": "893de6f4",
   "metadata": {
    "hidden": true
   },
   "outputs": [
    {
     "name": "stdout",
     "output_type": "stream",
     "text": [
      "This block will create the paths for these top genres\n",
      "Popular Genres:\n",
      "['comedy', 'drama', 'adventure', 'fantasy', 'horror', 'mystery', 'romance', 'action', 'thriller', 'western']\n"
     ]
    }
   ],
   "source": [
    "#goal: create folder with 10 subfolders for the genres inputted\n",
    "  #sidenote: not important \n",
    "\n",
    "popularGenres = [\"comedy\", \"drama\", \"adventure\", \"fantasy\", \n",
    "                  \"horror\", \"mystery\", \"romance\", \n",
    "                 \"action\", \"thriller\", \"western\"] # select 10 genres\n",
    "\n",
    "print(\"This block will create the paths for these top genres\")\n",
    "print(\"Popular Genres:\")\n",
    "print(popularGenres)\n",
    "\n",
    "try:\n",
    "    os.mkdir(\"popularGenres\")\n",
    "except OSError as error:\n",
    "    os.remove\n",
    "    print(error)\n",
    "    \n",
    "\n"
   ]
  },
  {
   "cell_type": "markdown",
   "id": "69255948",
   "metadata": {
    "heading_collapsed": true
   },
   "source": [
    "## goal: tokenize all genres in csv"
   ]
  },
  {
   "cell_type": "code",
   "execution_count": 74,
   "id": "c8ddd29f",
   "metadata": {
    "hidden": true,
    "scrolled": false
   },
   "outputs": [
    {
     "name": "stdout",
     "output_type": "stream",
     "text": [
      "done\n"
     ]
    }
   ],
   "source": [
    "#create genresL which has all genres listed \n",
    "import nltk, re, glob\n",
    "from nltk.corpus import stopwords\n",
    "\n",
    "genresL = []\n",
    "\n",
    "for index, row in dataFrame.iterrows():\n",
    "    curGenre = row[\"Genre\"]\n",
    "    genresL.append(curGenre)\n",
    "genresTxt = \"\\n\\n\".join(genresL)\n",
    "\n",
    "with open(\"allGenres.txt\", \"w\", newline=\"\") as fileO:\n",
    "    fileO.write(genresTxt)\n",
    "print(\"done\")"
   ]
  },
  {
   "cell_type": "code",
   "execution_count": 68,
   "id": "be289c41",
   "metadata": {
    "hidden": true
   },
   "outputs": [
    {
     "name": "stdout",
     "output_type": "stream",
     "text": [
      "0\n",
      "production\n",
      "glukoza\n",
      "sukachenko\n",
      "oleg\n",
      "krapiventsev\n",
      "sergey\n",
      "khokhlova\n",
      "olga\n",
      "volleyball\n",
      "harem\n",
      "supeheroes\n",
      "karuta\n",
      "poker\n",
      "cyberpunk\n",
      "dystopia\n",
      "gore\n",
      "koyuki\n",
      "maysuyama\n",
      "ken'ichi\n",
      "house\n"
     ]
    }
   ],
   "source": [
    "##tokenize genresTxt and remove stop words \n",
    "\n",
    "##create stopwords \n",
    "stopList = stopwords.words('english')\n",
    "stopList.extend([\",\",\"/\"])\n",
    "stopList.append(\"unknown\")\n",
    "\n",
    "##tokenize \n",
    "genreTokenL = nltk.word_tokenize(genresTxt)\n",
    "\n",
    "##remove stop words from token page \n",
    "no_stop_genre_tokens = [w for w in genreTokenL if w.lower() not in stopList]\n",
    "\n",
    "##show frequency of tokens \n",
    "genreLUnigram = nltk.ngrams(no_stop_genre_tokens, 1)\n",
    "genreUnigramList = list(genreLUnigram)\n",
    "unigramFreq = nltk.FreqDist(genreUnigramList)\n",
    "\n",
    "topTen = unigramFreq.most_common(20)\n",
    "\n",
    "\"\"\"for unigramObj in topTen:\n",
    "    unigram = unigramObj[0] #get a tuple like list of the makeup of unigram (one val)\n",
    "    print(unigram[0])\n",
    "\"\"\"\n",
    "print(unigramFreq[\"drama\"])\n",
    "\n",
    "#test: inverse of most common -> least common \n",
    "n = 20\n",
    "lastTwenty = unigramFreq.most_common()[:-n-1:-1]\n",
    "for unigramObj in lastTwenty:\n",
    "    unigram = unigramObj[0]\n",
    "    print(unigram[0])\n"
   ]
  },
  {
   "cell_type": "markdown",
   "id": "ca7f01e0",
   "metadata": {
    "heading_collapsed": true
   },
   "source": [
    "## ignore: Directory stuff "
   ]
  },
  {
   "cell_type": "code",
   "execution_count": 36,
   "id": "e818781b",
   "metadata": {
    "hidden": true
   },
   "outputs": [
    {
     "name": "stdout",
     "output_type": "stream",
     "text": [
      "folder: 'useless' was removed from cwd\n",
      "done\n"
     ]
    }
   ],
   "source": [
    "#test: remove directory \n",
    "\n",
    "import os \n",
    "import shutil\n",
    "\n",
    "try: \n",
    "    shutil.rmtree(\"useless\")\n",
    "    print(\"folder: 'useless' was removed from cwd\")\n",
    "except OSError as e:\n",
    "    print(\"Error: %s - %s.\" % (e.filename, e.strerror))\n",
    "\n",
    "print(\"done\")"
   ]
  },
  {
   "cell_type": "markdown",
   "id": "aee082cd",
   "metadata": {
    "heading_collapsed": true
   },
   "source": [
    "## goal: Print parts of data (for slides) "
   ]
  },
  {
   "cell_type": "markdown",
   "id": "3eddd52a",
   "metadata": {
    "hidden": true
   },
   "source": [
    "printing out amount of movies in each genre "
   ]
  },
  {
   "cell_type": "code",
   "execution_count": 42,
   "id": "eb62d381",
   "metadata": {
    "hidden": true
   },
   "outputs": [
    {
     "name": "stdout",
     "output_type": "stream",
     "text": [
      "western 250\n",
      "comedy 250\n",
      "drama 250\n",
      "adventure 250\n",
      "horror 250\n",
      "fantasy 204\n",
      "mystery 250\n",
      "romance 250\n",
      "thriller 250\n",
      "action 250\n",
      "2454\n"
     ]
    }
   ],
   "source": [
    "total = 0\n",
    "for genreO in genre_plot:\n",
    "    genreL = genre_plot[genreO]\n",
    "    print(genreO, len(genreL))\n",
    "    total += len(genreL)\n",
    "print(total)"
   ]
  },
  {
   "cell_type": "code",
   "execution_count": null,
   "id": "dd2eeb9a",
   "metadata": {
    "hidden": true
   },
   "outputs": [],
   "source": [
    "print(len(genre_plot[\"comedy\"]))"
   ]
  },
  {
   "cell_type": "markdown",
   "id": "1acdc945",
   "metadata": {
    "hidden": true
   },
   "source": [
    "print out in a line a csv row of data \n",
    "- using: dataFrame obj \n",
    "    - to call: `dataframe[\"Column\"][Index]`"
   ]
  },
  {
   "cell_type": "code",
   "execution_count": 47,
   "id": "492d7938",
   "metadata": {
    "hidden": true
   },
   "outputs": [
    {
     "name": "stdout",
     "output_type": "stream",
     "text": [
      "Release Year\n",
      "Title\n",
      "Origin/Ethnicity\n",
      "Director\n",
      "Cast\n",
      "Genre\n",
      "Wiki Page\n",
      "Plot\n"
     ]
    }
   ],
   "source": [
    "#prints the coloumns in csv\n",
    "#print(dataFrame)\n",
    "movieRow = \"\"\n",
    "for column in dataFrame:\n",
    "    print(column)"
   ]
  },
  {
   "cell_type": "code",
   "execution_count": 48,
   "id": "be238cec",
   "metadata": {
    "hidden": true
   },
   "outputs": [
    {
     "name": "stdout",
     "output_type": "stream",
     "text": [
      "1901\n"
     ]
    }
   ],
   "source": [
    "movieRow = \"\"\n",
    "for index,row in dataFrame.iterrows():\n",
    "    print(row.iloc[0])\n",
    "    break"
   ]
  },
  {
   "cell_type": "code",
   "execution_count": 49,
   "id": "c800653e",
   "metadata": {
    "hidden": true
   },
   "outputs": [
    {
     "name": "stdout",
     "output_type": "stream",
     "text": [
      "Release Year                                                     1901\n",
      "Title                                          Kansas Saloon Smashers\n",
      "Origin/Ethnicity                                             American\n",
      "Director                                                      Unknown\n",
      "Cast                                                              NaN\n",
      "Genre                                                         unknown\n",
      "Wiki Page           https://en.wikipedia.org/wiki/Kansas_Saloon_Sm...\n",
      "Plot                A bartender is working at a saloon, serving dr...\n",
      "Name: 0, dtype: object\n"
     ]
    }
   ],
   "source": [
    "\n",
    "#to print movie/row info -> dataframe.iloc[0]\n",
    "    #and index aka movie index in csv \n",
    "print(dataFrame.iloc[0])"
   ]
  },
  {
   "cell_type": "markdown",
   "id": "c8f85c71",
   "metadata": {},
   "source": [
    "## goal: test word2vec\n",
    "- note: might need to install gensim first.. \n",
    "- download and place this file in dir: [google news vector](https://github.com/eyaler/word2vec-slim/blob/master/GoogleNews-vectors-negative300-SLIM.bin.gz) "
   ]
  },
  {
   "cell_type": "markdown",
   "id": "79434af9",
   "metadata": {
    "heading_collapsed": true
   },
   "source": [
    "### download zip ONLY IF NEEDED STILL (fresh git clone from rep)"
   ]
  },
  {
   "cell_type": "code",
   "execution_count": null,
   "id": "ee3a904f",
   "metadata": {
    "hidden": true
   },
   "outputs": [],
   "source": [
    "#download the file.. (doesn't fit into rep)\n",
    "from urllib.request import urlretrieve\n",
    "url = (\n",
    "     \"https://github.com/eyaler/word2vec-slim/raw/master/GoogleNews-vectors-negative300-SLIM.bin.gz?download=\")\n",
    "filename = \"GoogleNews-vectors-negative300-SLIM.bin.gz\"\n",
    "urlretrieve(url,filename)"
   ]
  },
  {
   "cell_type": "markdown",
   "id": "3f053cb5",
   "metadata": {
    "heading_collapsed": true
   },
   "source": [
    "### importing model and ini funciton to make graph "
   ]
  },
  {
   "cell_type": "code",
   "execution_count": 76,
   "id": "34a53c96",
   "metadata": {
    "hidden": true
   },
   "outputs": [
    {
     "name": "stdout",
     "output_type": "stream",
     "text": [
      "Google News Model Loaded!\n"
     ]
    }
   ],
   "source": [
    "import gensim\n",
    "from gensim.models import Word2Vec\n",
    "\n",
    "bigmodel = gensim.models.KeyedVectors.load_word2vec_format(\"GoogleNews-vectors-negative300-SLIM.bin.gz\", binary=True)\n",
    "print(\"Google News Model Loaded!\")\n"
   ]
  },
  {
   "cell_type": "code",
   "execution_count": 79,
   "id": "63a9a16c",
   "metadata": {
    "hidden": true
   },
   "outputs": [
    {
     "name": "stdout",
     "output_type": "stream",
     "text": [
      "word2vec graph function initialized!\n"
     ]
    }
   ],
   "source": [
    "%matplotlib inline\n",
    "import numpy as np\n",
    "import matplotlib.pyplot as plt\n",
    "from sklearn.decomposition import PCA\n",
    "\n",
    "from gensim.models import Word2Vec\n",
    "\n",
    "#bigmodel -> google news model downloaded earlier \n",
    "\n",
    "def createWordVecGraph(wordpairs):\n",
    "    # Go get the word vectors for these words and \n",
    "    # then store them so you can use them later on.\n",
    "    vecwords = []  # stores the words above\n",
    "    vecs = []      # stores the vectors for each word\n",
    "    for k,v in wordpairs.items():\n",
    "        kvec = bigmodel[k]\n",
    "        vvec = bigmodel[v]\n",
    "        vecs.append(kvec)\n",
    "        vecwords.append(k)\n",
    "        vecs.append(vvec)\n",
    "        vecwords.append(v)\n",
    "\n",
    "\n",
    "    # PCA is a way to project multiple dimensions down to \n",
    "    # fewer dimensions, which we are doing here so we can \n",
    "    # visualize the word vectors.\n",
    "    pca = PCA(n_components=2, whiten=True)\n",
    "    vectors2d = pca.fit(vecs).transform(vecs) \n",
    "\n",
    "\n",
    "    # This is just some ugly matplotlib code for plotting\n",
    "    # the 2-D vectors and visualizing them with different colors.\n",
    "    i = 2\n",
    "    for point, word in zip(vectors2d, vecwords):\n",
    "        if i%2 == 0:\n",
    "            plt.scatter(point[0], point[1], c='r')\n",
    "        else:\n",
    "            plt.scatter(point[0], point[1], c='b')\n",
    "        i += 1\n",
    "\n",
    "        plt.annotate(\n",
    "                word, \n",
    "                xy=(point[0], point[1]),\n",
    "                xytext=(7, 6),\n",
    "                textcoords='offset points',\n",
    "                ha='left' ,\n",
    "                va='top',\n",
    "                size=\"medium\"\n",
    "                )\n",
    "print(\"word2vec graph function initialized!\")"
   ]
  },
  {
   "cell_type": "markdown",
   "id": "a69f2858",
   "metadata": {},
   "source": [
    "### get word pairs from 2 genre's (top 10 freq) lists "
   ]
  },
  {
   "cell_type": "code",
   "execution_count": 111,
   "id": "34c25f3e",
   "metadata": {},
   "outputs": [
    {
     "name": "stdout",
     "output_type": "stream",
     "text": [
      "{'police': 'ship', 'killed': 'love', 'gang': 'King', 'kill': 'island', 'car': 'crew', 'fight': 'takes', 'escape': 'Tarzan', 'death': 'time', 'kills': 'killed', 'takes': 'finds'}\n"
     ]
    }
   ],
   "source": [
    "#basically get a dictionary from the popular variable -> genreUnigrams obj \n",
    "    #(note: this variable can be changed by 2 different sections of code)\n",
    "    #can choose to use general filter or extensive filter to create genreUnigrams obj \n",
    "#takes 2 strings representing the genres available and returns dict obj\n",
    "#genreUnigrams\n",
    "def getTwoDictionary(genre1, genre2):\n",
    "    twoDict = {}\n",
    "    genreList1 = genreUnigrams[genre1][1]\n",
    "    genreList2 = genreUnigrams[genre2][1]\n",
    "    for i in range(len(genreList1)):\n",
    "        curVal1 = genreList1[i]\n",
    "        curVal2 = genreList2[i]\n",
    "        twoDict[curVal1] = curVal2\n",
    "    return twoDict\n",
    "dictTest = getTwoDictionary(\"action\",\"adventure\")\n",
    "print(dictTest)\n",
    "#comedy, drama, adventure, fantasy, horror, mystery, romance,action, thriller, western"
   ]
  },
  {
   "cell_type": "markdown",
   "id": "b903dbdb",
   "metadata": {},
   "source": [
    "### Assign Word Pairs Here: \n",
    "- then the function is called to make the graph"
   ]
  },
  {
   "cell_type": "code",
   "execution_count": 112,
   "id": "97b39c44",
   "metadata": {},
   "outputs": [
    {
     "name": "stdout",
     "output_type": "stream",
     "text": [
      "{'police': 'ship', 'killed': 'love', 'gang': 'King', 'kill': 'island', 'car': 'crew', 'fight': 'takes', 'escape': 'Tarzan', 'death': 'time', 'kills': 'killed', 'takes': 'finds'}\n"
     ]
    },
    {
     "data": {
      "image/png": "[encoded data removed]",
      "text/plain": [
       "<Figure size 640x480 with 1 Axes>"
      ]
     },
     "metadata": {},
     "output_type": "display_data"
    }
   ],
   "source": [
    "#action adventure\n",
    "wordPairs = {\"police\":\"ship\",  \"killed\":\"love\",  \"gang\":\"King\",  \"kill\":\"island\",  \"car\":\"crew\",  \"fight\":\"takes\",  \"escape\":\"Tarzan\",  \"death\":\"time\",  \"kills\":\"killed\",  \"takes\":\"finds\"}\n",
    "print(wordPairs)\n",
    "createWordVecGraph(wordPairs)"
   ]
  },
  {
   "cell_type": "markdown",
   "id": "f9b54e9a",
   "metadata": {},
   "source": [
    "\n",
    "### Generate dictionary (manual)\n",
    "- takes input from user to create plaintext in python dictionary format to set wordPairs var above"
   ]
  },
  {
   "cell_type": "code",
   "execution_count": 33,
   "id": "0e778049",
   "metadata": {},
   "outputs": [
    {
     "name": "stdout",
     "output_type": "stream",
     "text": [
      "police killed gang kill car fight escape death kills takes\n",
      "ship love King island crew takes Tarzan time killed finds\n"
     ]
    }
   ],
   "source": [
    "# take input and print out the key value thingie \n",
    "\n",
    "a1 = input()\n",
    "a2 = input()"
   ]
  },
  {
   "cell_type": "code",
   "execution_count": null,
   "id": "88105d28",
   "metadata": {},
   "outputs": [],
   "source": [
    "# OR set a1 a2 here \n"
   ]
  },
  {
   "cell_type": "code",
   "execution_count": 34,
   "id": "b0b11f76",
   "metadata": {},
   "outputs": [
    {
     "name": "stdout",
     "output_type": "stream",
     "text": [
      "\"police\":\"ship\",  \"killed\":\"love\",  \"gang\":\"King\",  \"kill\":\"island\",  \"car\":\"crew\",  \"fight\":\"takes\",  \"escape\":\"Tarzan\",  \"death\":\"time\",  \"kills\":\"killed\",  \"takes\":\"finds\"\n"
     ]
    }
   ],
   "source": [
    "a1L = a1.split(\" \")\n",
    "a2L = a2.split(\" \")\n",
    "\n",
    "myPair = ''\n",
    "for i in range(len(a1L)):\n",
    "    myPair += '\"' + a1L[i] + '\"' + \":\" + '\"' + a2L[i] + '\"' + \",  \"\n",
    "myPair = myPair[:-3]\n",
    "print(myPair)\n"
   ]
  },
  {
   "cell_type": "code",
   "execution_count": null,
   "id": "478fcdc8",
   "metadata": {},
   "outputs": [],
   "source": []
  }
 ],
 "metadata": {
  "kernelspec": {
   "display_name": "Python 3 (ipykernel)",
   "language": "python",
   "name": "python3"
  },
  "language_info": {
   "codemirror_mode": {
    "name": "ipython",
    "version": 3
   },
   "file_extension": ".py",
   "mimetype": "text/x-python",
   "name": "python",
   "nbconvert_exporter": "python",
   "pygments_lexer": "ipython3",
   "version": "3.11.5"
  }
 },
 "nbformat": 4,
 "nbformat_minor": 5
}
