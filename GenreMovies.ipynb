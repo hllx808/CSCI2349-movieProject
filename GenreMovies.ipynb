{
 "cells": [
  {
   "cell_type": "code",
   "execution_count": null,
   "id": "bf40eb15",
   "metadata": {},
   "outputs": [],
   "source": [
    "import pandas as pd\n",
    "\n",
    "# make sure you imported the kaggle dataset and have it on the same directory as this. \n",
    "file = \"wiki_movie_plots_deduped.csv\"\n",
    "\n",
    "df = pd.read_csv(file)\n"
   ]
  },
  {
   "cell_type": "code",
   "execution_count": null,
   "id": "5242dea6",
   "metadata": {},
   "outputs": [],
   "source": [
    "# This cell takes awhile to run\n",
    "\n",
    "selected_col = df[[\"Genre\", \"Plot\"]] # columns from the csv that we want to focus on\n",
    "\n",
    "selected_genres = [\"comedy\", \"drama\", \"adventure\", \"fantasy\", \n",
    "                  \"horror\", \"mystery\", \"romance\", \n",
    "                 \"action\", \"thriller\", \"western\"] # select 10 genres\n",
    "\n",
    "# Initialize an empty dictionary\n",
    "movie = {}\n",
    "\n",
    "# Iterate through the DataFrame rows\n",
    "for index, row in selected_col.iterrows():\n",
    "    genre = row['Genre']\n",
    "    plot = row['Plot']\n",
    "\n",
    "    # Check if genre exists in selected_genres\n",
    "    if genre in selected_genres: \n",
    "        if genre in movie:\n",
    "            # Append the movie plot to the existing value\n",
    "            # I did < 250 to ensure that every genre has less than 250 movies. This is because we had too much\n",
    "            # text so I had to shorten it\n",
    "            if len(movie[genre]) < 250: \n",
    "                movie[genre].append(plot)\n",
    "        else:\n",
    "            # Create a new key-value pair\n",
    "            movie[genre] = [plot]\n",
    "\n",
    "\n",
    "            \n",
    "# Right now, the result of movie looks like this:\n",
    "# movie = {comedy: [movie1, movie2, movie3,...,movie250], action: [movie1, movie2, movie3,...,movie250]} and so on\n",
    "\n",
    "# So the value of the key-value pairs is just an list of the movies"
   ]
  },
  {
   "cell_type": "code",
   "execution_count": null,
   "id": "ea54e47c",
   "metadata": {},
   "outputs": [],
   "source": [
    "# print total amount of words in entire text corpus that we are analyzing\n",
    "total_words = 0\n",
    "for key in movie: \n",
    "    for mov in movie[key]: \n",
    "        total_words += len(mov.split(' '))\n",
    "print(total_words)"
   ]
  },
  {
   "cell_type": "code",
   "execution_count": null,
   "id": "c4dba732",
   "metadata": {},
   "outputs": [],
   "source": [
    "# prints out the total amount of movies we are analyzing\n",
    "\n",
    "total_movies = 0\n",
    "for key in movie:\n",
    "    total_movies += len(movie[key])\n",
    "print(total_movies)"
   ]
  },
  {
   "cell_type": "code",
   "execution_count": null,
   "id": "c7e82f05",
   "metadata": {},
   "outputs": [],
   "source": [
    "# So to get the text corpus for a particular genre, do something like: \n",
    "\n",
    "# text = movie[\"comedy\"] \n",
    "# because this 'text' variable is a list (because the value from the key-value pair is a list)\n",
    "# we want to make it a string\n",
    "# so do something like new_text = \"\".join(text)\n",
    "# get rid of stop words, normalize, lemmatize, etc, and make visualization from there\n",
    "\n",
    "\n",
    "text = movie[\"comedy\"]\n",
    "new_text = \"\".join(text)\n",
    "print(new_text)\n",
    "# get stop words\n",
    "# tokenize/lemmatize depending on what your doing"
   ]
  },
  {
   "cell_type": "code",
   "execution_count": null,
   "id": "252a7ec9",
   "metadata": {},
   "outputs": [],
   "source": []
  }
 ],
 "metadata": {
  "kernelspec": {
   "display_name": "Python 3 (ipykernel)",
   "language": "python",
   "name": "python3"
  },
  "language_info": {
   "codemirror_mode": {
    "name": "ipython",
    "version": 3
   },
   "file_extension": ".py",
   "mimetype": "text/x-python",
   "name": "python",
   "nbconvert_exporter": "python",
   "pygments_lexer": "ipython3",
   "version": "3.11.5"
  }
 },
 "nbformat": 4,
 "nbformat_minor": 5
}
