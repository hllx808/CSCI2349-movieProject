{
 "cells": [
  {
   "cell_type": "code",
   "execution_count": 1,
   "id": "b9c6920c",
   "metadata": {},
   "outputs": [],
   "source": [
    "import pandas as pd\n",
    "\n",
    "# make sure you imported the kaggle dataset and have it on the same directory as this. \n",
    "file = \"wiki_movie_plots_deduped.csv\"\n",
    "\n",
    "dataFrame = pd.read_csv(file) #like 2d array \n"
   ]
  },
  {
   "cell_type": "code",
   "execution_count": null,
   "id": "fb916fbd",
   "metadata": {},
   "outputs": [],
   "source": [
    "\n",
    "selected_col = dataFrame[[\"Genre\", \"Plot\"]] # columns from the csv that we want to focus on\n"
   ]
  }
 ],
 "metadata": {
  "kernelspec": {
   "display_name": "Python 3 (ipykernel)",
   "language": "python",
   "name": "python3"
  },
  "language_info": {
   "codemirror_mode": {
    "name": "ipython",
    "version": 3
   },
   "file_extension": ".py",
   "mimetype": "text/x-python",
   "name": "python",
   "nbconvert_exporter": "python",
   "pygments_lexer": "ipython3",
   "version": "3.11.5"
  }
 },
 "nbformat": 4,
 "nbformat_minor": 5
}
