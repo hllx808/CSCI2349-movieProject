{
 "cells": [
  {
   "cell_type": "markdown",
   "id": "13e3c73d",
   "metadata": {},
   "source": [
    "# Initialized data into dataframe to later manipulate "
   ]
  },
  {
   "cell_type": "code",
   "execution_count": 407,
   "id": "b9c6920c",
   "metadata": {},
   "outputs": [],
   "source": [
    "import pandas as pd\n",
    "\n",
    "# make sure you imported the kaggle dataset and have it on the same directory as this. \n",
    "file = \"wiki_movie_plots_deduped.csv\"\n",
    "\n",
    "dataFrame = pd.read_csv(file) #like 2d array \n"
   ]
  },
  {
   "cell_type": "markdown",
   "id": "e585d346",
   "metadata": {},
   "source": [
    "# Some Debug Functions (to filter and mess with data)"
   ]
  },
  {
   "cell_type": "code",
   "execution_count": 408,
   "id": "802d45c9",
   "metadata": {},
   "outputs": [
    {
     "name": "stdout",
     "output_type": "stream",
     "text": [
      "functions initialized\n"
     ]
    }
   ],
   "source": [
    "def displayFromDataFrame(frame, numValues, keyF):\n",
    "    \"\"\"using pandas dataframe object created from a csv file, look at each movie/thing (by row)\n",
    "        by key param it will print the first n values in the dataframe \n",
    "        use: to better understand pandas \n",
    "    \"\"\"\n",
    "    for index, row in frame.iterrows():   #frame is a pandas dataframe of a csv file framX[\"ColumnName\"][index] \n",
    "        if index >= numValues:\n",
    "            break\n",
    "        value = row[keyF]\n",
    "        print(value)\n",
    "\"\"\"\n",
    "rows genre txt\n",
    "0     x     ....\n",
    "\"\"\"\n",
    "\n",
    "#my funct from past hw\n",
    "def remove_nested_brackets(text):\n",
    "    # Regular expression to match and remove content within nested square brackets\n",
    "    square_brackets_pattern = r'\\[[^\\[\\]]*\\]'\n",
    "    \n",
    "    # Regular expression to match and remove content within nested angle brackets\n",
    "    angle_brackets_pattern = r'<[^<>]*>'\n",
    "    \n",
    "    # Define a function to recursively remove nested brackets\n",
    "    def remove_nested(text):\n",
    "        # Remove content within square brackets\n",
    "        text_without_square_brackets = re.sub(square_brackets_pattern, '', text)\n",
    "        # Remove content within angle brackets\n",
    "        text_without_angle_brackets = re.sub(angle_brackets_pattern, '', text_without_square_brackets)\n",
    "        \n",
    "        # Check if there are any nested brackets left\n",
    "        if re.search(square_brackets_pattern, text_without_angle_brackets) or re.search(angle_brackets_pattern, text_without_angle_brackets):\n",
    "            # If nested brackets are found, recursively remove them\n",
    "            return remove_nested(text_without_angle_brackets)\n",
    "        else:\n",
    "            # If no more nested brackets are found, return the modified text\n",
    "            return text_without_angle_brackets\n",
    "\n",
    "    # Call the recursive function\n",
    "    result = remove_nested(text)\n",
    "    return result\n",
    "\n",
    "\n",
    "print(\"functions initialized\")"
   ]
  },
  {
   "cell_type": "markdown",
   "id": "7e5247ca",
   "metadata": {},
   "source": [
    "# Gather the movies into the genrePlot dictionary "
   ]
  },
  {
   "cell_type": "code",
   "execution_count": 409,
   "id": "fb916fbd",
   "metadata": {},
   "outputs": [],
   "source": [
    "# Gather the ,movies into the genrePlot dictionary \n",
    "\n",
    "selected_col = dataFrame[[\"Genre\", \"Plot\"]] # columns from the csv that we want to focus on\n",
    "\n",
    "selected_genres = [\"comedy\", \"drama\", \"adventure\", \"fantasy\", \n",
    "                  \"horror\", \"mystery\", \"romance\", \n",
    "                 \"action\", \"thriller\", \"western\"] # select 10 genres\n",
    "\n",
    "#dict\n",
    "genre_plot = {}\n",
    "\n",
    "#iter through rows (movie) in data frame \n",
    "for index, row in selected_col.iterrows():\n",
    "    curGenre = row['Genre']\n",
    "    curPlot = row['Plot']\n",
    "    \n",
    "    if curGenre not in selected_genres:     \n",
    "        #skip over this movie if it's genre is not one we're looking for \n",
    "        continue    \n",
    "    if curGenre not in genre_plot:          \n",
    "        #if cur movies genre hasn't been added to dict yet -> add that genre title with that plot as it's value\n",
    "        genre_plot[curGenre] = [curPlot]\n",
    "    elif len(genre_plot[curGenre]) < 250:\n",
    "        #since this genre is in the dict -> now make sure that genre key hasn't surpassed having 250 entries \n",
    "        genre_plot[curGenre].append(curPlot)\n",
    "            "
   ]
  },
  {
   "cell_type": "markdown",
   "id": "e5f722f9",
   "metadata": {},
   "source": [
    "# LLX CODE FOR PROJECT:"
   ]
  },
  {
   "cell_type": "markdown",
   "id": "4f94fb34",
   "metadata": {},
   "source": [
    "## Goal: Create unigrams for the 10 different genres \n",
    "- create word clouds with this \n",
    "- where original frequency filtering code is located! "
   ]
  },
  {
   "cell_type": "code",
   "execution_count": 438,
   "id": "c6c0f626",
   "metadata": {},
   "outputs": [
    {
     "name": "stdout",
     "output_type": "stream",
     "text": [
      "ini: funct's for creating and printing unigram initialized\n",
      "genreUnigrams has been set\n"
     ]
    }
   ],
   "source": [
    "import nltk, re, glob\n",
    "from nltk.corpus import stopwords \n",
    "\n",
    "#generate and print frequency for words in a UNIGRAM for genre topic (TAKES TOKEN AS INPUT):\n",
    "def printUnigramData(curGenre, tokens, n, printBool):\n",
    "    #param: already a freq dist \n",
    "    #n: top 10 or more values to print out\n",
    "    #return: a list of the top values \n",
    "    unigram = nltk.ngrams(tokens, 1)\n",
    "    unigramL = list(unigram)\n",
    "    unigramFreq = nltk.FreqDist(unigramL)\n",
    "    if printBool:\n",
    "        print(\"Genre:\", curGenre, \"(most frequently occuring words found)\")\n",
    "    popularWords = []\n",
    "    popularUnigrams = unigramFreq.most_common(n)\n",
    "    for unigramObj in popularUnigrams:\n",
    "        unigram = unigramObj[0]\n",
    "        if printBool:\n",
    "            print(unigram[0]) #, unigramObj[1]) #name of word and freq of word \n",
    "        popularWords.append(unigram[0])\n",
    "    if printBool:\n",
    "        print()\n",
    "    return popularWords\n",
    "\n",
    "#iterate through each large genre list -> textChunk -> tokens -> noStopTokens -> unigram -> freq object \n",
    "def regFilteredUnigram(functWordCount, displayBool):\n",
    "    curGenreUnigramObj = {}\n",
    "    for curGenre in selected_genres:\n",
    "        plotsList = genre_plot[curGenre]\n",
    "        genresTexts = \" \".join(plotsList) #now text chunk\n",
    "        #remove spacing\n",
    "        genresTexts = re.sub(r'[\\n|\\s]+', ' ', genresTexts)\n",
    "        genresTexts = remove_nested_brackets(genresTexts)\n",
    "        #tokenize\n",
    "        tokens = nltk.word_tokenize(genresTexts)\n",
    "        #remove stop words \n",
    "        noStop_tokens = [w for w in tokens if w.lower() not in stopList]\n",
    "        #UNIGRAM THE CURRENT GENRE \n",
    "        #iterate through X amount in freq (can display unigram findings if bool in funct set to true)  \n",
    "        popularWords = printUnigramData(curGenre, noStop_tokens, functWordCount, displayBool) #CREATES AND PRINTS TOP 10 (or more now) \n",
    "        curGenreUnigramObj[curGenre] = [noStop_tokens, popularWords]\n",
    "    return curGenreUnigramObj\n",
    "print(\"ini: funct's for creating and printing unigram initialized\")\n",
    "#########################3\n",
    "##########################\n",
    "\n",
    "#ini basic stop words list, added some after extra filtering deemed to be necessary \n",
    "stopList = stopwords.words('english')\n",
    "stopList.extend([\")\", \"(\", \".\", \",\", \"?\", \"could\", \"would\", \"“\", \"”\", \"’\", \";\", \"!\",\"much\", \"like\", \"one\", \"many\", \"though\", \"without\", \"upon\"])\n",
    "stopList.extend([\"''\", \"``\", \"'s\", 'get', 'also', \"'\", \"–\"])\n",
    "\n",
    "\n",
    "#NOTE: genreUnigrams (now filled by funct above )\n",
    "#add word count and true if you want to print results..\n",
    "genreUnigrams = regFilteredUnigram(10, False)\n",
    "print(\"genreUnigrams has been set\")\n",
    "\n",
    "#genreUnigrams dict: GENRE{ filtered tokens , popular words }\n",
    "#comedy, drama, adventure, fantasy, horror, mystery, romance,action, thriller, western"
   ]
  },
  {
   "cell_type": "markdown",
   "id": "a7a368a1",
   "metadata": {},
   "source": [
    "## Frequency (filtered) Remove Generics like names and other people nouns\n",
    "- source: https://gist.github.com/sebleier/554280 \n",
    "- txt file with stop list should be included in rep \n",
    "- note: remember to keep stop words lowercase.."
   ]
  },
  {
   "cell_type": "code",
   "execution_count": 154,
   "id": "00ec6487",
   "metadata": {},
   "outputs": [],
   "source": [
    "with open(\"extensiveStopList.txt\", \"r\", encoding='utf=8') as fileO:\n",
    "    extensiveStopListTxt = fileO.read()"
   ]
  },
  {
   "cell_type": "code",
   "execution_count": 440,
   "id": "f93f6f47",
   "metadata": {},
   "outputs": [
    {
     "name": "stdout",
     "output_type": "stream",
     "text": [
      "Success: created extensiveStopList variable\n"
     ]
    }
   ],
   "source": [
    "filterStop = extensiveStopListTxt.split(\",\")\n",
    "if len(filterStop) == 1160:\n",
    "    print(\"Success: created extensiveStopList variable\")"
   ]
  },
  {
   "cell_type": "code",
   "execution_count": 496,
   "id": "d38a4a84",
   "metadata": {},
   "outputs": [
    {
     "name": "stdout",
     "output_type": "stream",
     "text": [
      "1226\n",
      "1226\n",
      "1227\n"
     ]
    }
   ],
   "source": [
    "print(len(filterStop))\n",
    "filterStop.extend([w for w in stopList if w not in filterStop])\n",
    "print(len(filterStop))\n",
    "#get out characters...\n",
    "stopNames = [\"man\", \"woman\", \"jim\", \"john\", \"jack\", \"harry\", \"chan\", \"tom\", \"father\", \"mother\", \"son\", \"daughter\", \"tells\", \"gene\", \"keaton\", \"harold\", \"charlie\", \"husband\", \"wife\", \"girl\", \"buster\", \"mrs.\", \"men\", \"dr.\", \"paul\", \"billy\", \"martin\", \"david\", \"kate\", \"george\", \"joe\", \"alice\", \"anne\", \"roy\", \"frank\", \"sara\", \"walter\", \"michael\", \"helen\", \"lori\", \"karl\", \"chris\", \"henry\", \"mike\", \"susan\", \"laura\", \"scott\", \"clifford\", \"peter\", \"sally\", \"tracy\", \"lisa\"]\n",
    "filterStop.extend([w for w in stopNames if w not in filterStop])\n",
    "print(len(filterStop))"
   ]
  },
  {
   "cell_type": "code",
   "execution_count": null,
   "id": "e1f3bd33",
   "metadata": {},
   "outputs": [],
   "source": [
    "#iterate through each large genre list -> textChunk -> tokens -> noStopTokens -> unigram -> freq object \n",
    "genreUnigrams = {} #reset from potential past set dict \n",
    "wordCount = 20\n",
    "\n",
    "def nameFilteredUnigram(functWordCount, displayBool):\n",
    "    curGenreUnigramObj = {}\n",
    "    for curGenre in selected_genres:\n",
    "        plotsList = genre_plot[curGenre]\n",
    "        genresTexts = \" \".join(plotsList) #now text chunk\n",
    "        #remove spacing\n",
    "        genresTexts = re.sub(r'[\\n|\\s]+', ' ', genresTexts)\n",
    "        genresTexts = remove_nested_brackets(genresTexts)\n",
    "        #tokenize\n",
    "        tokens = nltk.word_tokenize(genresTexts)\n",
    "        #remove stop words \n",
    "        noStop_tokens = [w for w in tokens if w.lower() not in filterStop]\n",
    "        #unigram the genre \n",
    "        #iterate through top ten object to (potentially) display unigram findings \n",
    "        popularWords = printUnigramData(curGenre, noStop_tokens, functWordCount, displayBool) #creates and prints \n",
    "        #print(noStop_tokens)\n",
    "        curGenreUnigramObj[curGenre] = [noStop_tokens, popularWords]\n",
    "    return curGenreUnigramObj\n",
    "print(\"ini: funct to return filtered dictionary with unigrams\")\n",
    "\n",
    "###NOTE: this block still modifies genreUnigrams (intended)\n",
    "genreUnigrams = nameFilteredUnigram(wordCount, False)\n",
    "print(\"Done\")"
   ]
  },
  {
   "cell_type": "markdown",
   "id": "46b41461",
   "metadata": {},
   "source": [
    "## Word Cloud  "
   ]
  },
  {
   "cell_type": "code",
   "execution_count": null,
   "id": "7c134057",
   "metadata": {},
   "outputs": [],
   "source": [
    "#Wordcloud\n",
    "import matplotlib.pyplot as plt \n",
    "from wordcloud import WordCloud\n",
    "\n",
    "def createCloud(tokens_as_string):\n",
    "    wordcloud = WordCloud(max_font_size=40, collocations=False).generate(tokens_as_string)\n",
    "    plt.figure\n",
    "    plt.imshow(wordcloud, interpolation=\"bilinear\")\n",
    "    plt.axis(\"off\")\n",
    "    plt.show()\n",
    "\n",
    "#using genreUnigrams obj in function\n",
    "def displayGenreInfo(genre):\n",
    "    print(genre)\n",
    "    print(genreUnigrams[genre][1])\n",
    "    genreTokens = genreUnigrams[genre][0]\n",
    "    genreTxt = \" \".join(genreTokens)\n",
    "    createCloud(genreTxt)\n",
    "\n",
    "#redundant???\n",
    "def compareTwo(*argv):\n",
    "    for arg in argv:\n",
    "        displayGenreInfo(arg)\n",
    "\n",
    "compareTwo(\"thriller\", \"action\", \"mystery\")\n",
    "\n",
    "#0: tokens | 1: popular words calculated earlier \n",
    "#comedy, drama, adventure, fantasy, horror, mystery, romance,action, thriller, western"
   ]
  },
  {
   "cell_type": "code",
   "execution_count": null,
   "id": "05f94a0e",
   "metadata": {},
   "outputs": [],
   "source": [
    "#create a more official representation of data  ???"
   ]
  },
  {
   "cell_type": "markdown",
   "id": "da02d9ab",
   "metadata": {},
   "source": [
    "## Compare Word Frequencies:\n",
    "- goal is to make functions to easily print, formatted, the frequencies generated earlier \n",
    "- done: output is clean"
   ]
  },
  {
   "cell_type": "code",
   "execution_count": 444,
   "id": "147b0e78",
   "metadata": {
    "scrolled": true
   },
   "outputs": [
    {
     "name": "stdout",
     "output_type": "stream",
     "text": [
      "Current Number of Frequent Words Shown Per Genre: 20 \n",
      "\n",
      "thriller        action          mystery         \n",
      "~~~~~~~~~~~~~~~~~~~~~~~~~~~~~~~~~~~~~~~~~~~~~~~~\n",
      "police          police          police          \n",
      "car             killed          Holmes          \n",
      "house           gang            finds           \n",
      "killed          kill            murder          \n",
      "finds           car             killed          \n",
      "kill            fight           dead            \n",
      "death           escape          house           \n",
      "apartment       death           death           \n",
      "takes           kills           room            \n",
      "murder          takes           car             \n",
      "room            finds           body            \n",
      "night           group           Watson          \n",
      "money           killing         murdered        \n",
      "dead            named           night           \n",
      "time            friend          money           \n",
      "life            drug            turns           \n",
      "killing         local           asks            \n",
      "leaves          shot            time            \n",
      "leave           time            arrives         \n",
      "day             team            Blackie         \n"
     ]
    }
   ],
   "source": [
    "import numpy as np\n",
    "\n",
    "def compareFreq(*argv):\n",
    "    freqArray = []\n",
    "    totalGenres = 0\n",
    "    for genre in argv:\n",
    "        freqArray.append(genreUnigrams[genre][1])\n",
    "        totalGenres+=1\n",
    "    titleStr = \"{:15} \"*totalGenres\n",
    "    print(titleStr.format(*argv))\n",
    "    print(\"~\"*16*totalGenres)\n",
    "    freqArray = np.array(freqArray)\n",
    "    \n",
    "    dataInRowCount = len(freqArray[0])\n",
    "    #freqArray = freqArray.reshape(dataInRowCount, totalGenres)   #was wrong this whole time \n",
    "    freqArray = freqArray.T\n",
    "    dataInRowCount = len(freqArray[0])\n",
    "    \n",
    "    for row in freqArray:\n",
    "        rowSkeleton = \"{:15} \"*dataInRowCount \n",
    "        print(rowSkeleton.format(*row))\n",
    "\n",
    "#can call funct to change unigram obj.. genreUnigrams (not rec)\n",
    "print(\"Current Number of Frequent Words Shown Per Genre:\", len(genreUnigrams[\"romance\"][1]), \"\\n\")\n",
    "#compareFreq(\"romance\", \"horror\", \"mystery\", \"romance\", \"thriller\", \"western\")\n",
    "compareFreq(\"thriller\", \"action\", \"mystery\")\n",
    "\n",
    "#print(genreUnigrams[\"thriller\"][1]) #debug -> double check to make sure freq in correct order \n",
    "#max 10\n",
    "#comedy, drama, adventure, fantasy, horror, mystery, romance,action, thriller, western"
   ]
  },
  {
   "cell_type": "markdown",
   "id": "98006d58",
   "metadata": {
    "heading_collapsed": true
   },
   "source": [
    "# Debug Explain code variables"
   ]
  },
  {
   "cell_type": "code",
   "execution_count": null,
   "id": "82622990",
   "metadata": {
    "hidden": true
   },
   "outputs": [],
   "source": [
    "#selected_col is a dictionary array, using Genre -> a value in it can be found \n",
    "#print(selected_col[\"Genre\"])\n",
    "\n",
    "displayFromDataFrame(dataFrame, 20, \"Title\")\n"
   ]
  },
  {
   "cell_type": "markdown",
   "id": "50cfc3fc",
   "metadata": {
    "heading_collapsed": true,
    "hidden": true
   },
   "source": [
    "## find out max string length from list of genres (ignore)"
   ]
  },
  {
   "cell_type": "code",
   "execution_count": null,
   "id": "a47661e6",
   "metadata": {
    "hidden": true
   },
   "outputs": [],
   "source": [
    "generesPlainText = input()\n",
    "genresL = generesPlainText.split(\",\")\n",
    "print(genresL)"
   ]
  },
  {
   "cell_type": "code",
   "execution_count": null,
   "id": "c9345db5",
   "metadata": {
    "hidden": true
   },
   "outputs": [],
   "source": [
    "genres = ['comedy', ' drama', ' adventure', ' fantasy', ' horror', ' mystery', ' romance', 'action', ' thriller', ' western']\n",
    "max = 0\n",
    "for genre in genres:\n",
    "    if (len(genre) > max):\n",
    "        max = len(genre)\n",
    "print(max)\n"
   ]
  },
  {
   "cell_type": "markdown",
   "id": "14443f07",
   "metadata": {},
   "source": [
    "# My tests\n",
    "- using dataframe object \n",
    "- to filter columns into smaller dataframe object: `smaller = df[ [\"col1\"],[\"col2\"] ]`"
   ]
  },
  {
   "cell_type": "markdown",
   "id": "dd9ccadc",
   "metadata": {
    "heading_collapsed": true
   },
   "source": [
    "## Goal: figure out matplot lib resizing for word2vec\n",
    "- done -> using figsize to set a ratio of sorts"
   ]
  },
  {
   "cell_type": "code",
   "execution_count": null,
   "id": "e63ae4b5",
   "metadata": {
    "hidden": true
   },
   "outputs": [],
   "source": [
    "fig6, ax = plt.subplots(figsize=(10,5)) #this is where resizing is really descided \n",
    "\n",
    "ax.add_patch(plt.Circle((5, 3), 1))\n",
    "ax.set_aspect(\"equal\", adjustable=\"datalim\")\n",
    "ax.set_box_aspect(0.5)\n",
    "ax.autoscale() #good idea to have this set? (didn't need for word2vec scatter plot)\n",
    "#ax.set_xlim(300, 400) #useless \n",
    "\n",
    "plt.show()"
   ]
  },
  {
   "cell_type": "markdown",
   "id": "b5e6e313",
   "metadata": {
    "heading_collapsed": true
   },
   "source": [
    "## Goal: using reshape from numpy \n",
    "- solution found: using transpose -> 'T'\n"
   ]
  },
  {
   "cell_type": "code",
   "execution_count": null,
   "id": "93cf8f10",
   "metadata": {
    "hidden": true
   },
   "outputs": [],
   "source": [
    "def printNP(npARR):\n",
    "    rowSize = len(npARR[0])\n",
    "    for row in npARR:\n",
    "        rowSkel = \"{:3} \"*rowSize\n",
    "        print(rowSkel.format(*row))\n",
    "    print()\n",
    "\n",
    "testArray1 = np.array(\n",
    "    [\n",
    "        [1,2,3,4],\n",
    "        [5,6,7,8],\n",
    "        [9,10,11,12]\n",
    "    ])\n",
    "printNP(testArray1) #3rows by 4 coloumns\n",
    "\n",
    "#testArray1 = testArray1.reshape(4,3)\n",
    "testArray1 = testArray1.T\n",
    "printNP(testArray1)\n"
   ]
  },
  {
   "cell_type": "markdown",
   "id": "fe4dabfc",
   "metadata": {
    "heading_collapsed": true
   },
   "source": [
    "## goal: mess w/dictionary \n",
    "- done, useful funct to reference back to. "
   ]
  },
  {
   "cell_type": "code",
   "execution_count": null,
   "id": "5bcce862",
   "metadata": {
    "hidden": true
   },
   "outputs": [],
   "source": [
    "dummyDict = {\"a\":\"word1\", \"b\":\"word2\", \"c\":\"word3\"}\n",
    "#(key, values) = dummyDict.items\n",
    "    #run in for loop to get each as a list to use 1 by one \n",
    "#dummyDict.keys()\n",
    "#dummyDict.values()\n",
    "print(list(dummyDict.keys()))"
   ]
  },
  {
   "cell_type": "markdown",
   "id": "7c80fff7",
   "metadata": {
    "heading_collapsed": true
   },
   "source": [
    "## goal: create folder with 10 subfolders for the genres inputted\n",
    "    - minor/not important"
   ]
  },
  {
   "cell_type": "code",
   "execution_count": 37,
   "id": "893de6f4",
   "metadata": {
    "hidden": true
   },
   "outputs": [
    {
     "name": "stdout",
     "output_type": "stream",
     "text": [
      "This block will create the paths for these top genres\n",
      "Popular Genres:\n",
      "['comedy', 'drama', 'adventure', 'fantasy', 'horror', 'mystery', 'romance', 'action', 'thriller', 'western']\n"
     ]
    }
   ],
   "source": [
    "#goal: create folder with 10 subfolders for the genres inputted\n",
    "  #sidenote: not important \n",
    "\n",
    "popularGenres = [\"comedy\", \"drama\", \"adventure\", \"fantasy\", \n",
    "                  \"horror\", \"mystery\", \"romance\", \n",
    "                 \"action\", \"thriller\", \"western\"] # select 10 genres\n",
    "\n",
    "print(\"This block will create the paths for these top genres\")\n",
    "print(\"Popular Genres:\")\n",
    "print(popularGenres)\n",
    "\n",
    "try:\n",
    "    os.mkdir(\"popularGenres\")\n",
    "except OSError as error:\n",
    "    os.remove\n",
    "    print(error)\n",
    "    \n",
    "\n"
   ]
  },
  {
   "cell_type": "markdown",
   "id": "69255948",
   "metadata": {
    "heading_collapsed": true
   },
   "source": [
    "## goal: tokenize all genres in csv"
   ]
  },
  {
   "cell_type": "code",
   "execution_count": 74,
   "id": "c8ddd29f",
   "metadata": {
    "hidden": true,
    "scrolled": false
   },
   "outputs": [
    {
     "name": "stdout",
     "output_type": "stream",
     "text": [
      "done\n"
     ]
    }
   ],
   "source": [
    "#create genresL which has all genres listed \n",
    "import nltk, re, glob\n",
    "from nltk.corpus import stopwords\n",
    "\n",
    "genresL = []\n",
    "\n",
    "for index, row in dataFrame.iterrows():\n",
    "    curGenre = row[\"Genre\"]\n",
    "    genresL.append(curGenre)\n",
    "genresTxt = \"\\n\\n\".join(genresL)\n",
    "\n",
    "with open(\"allGenres.txt\", \"w\", newline=\"\") as fileO:\n",
    "    fileO.write(genresTxt)\n",
    "print(\"done\")"
   ]
  },
  {
   "cell_type": "code",
   "execution_count": 68,
   "id": "be289c41",
   "metadata": {
    "hidden": true
   },
   "outputs": [
    {
     "name": "stdout",
     "output_type": "stream",
     "text": [
      "0\n",
      "production\n",
      "glukoza\n",
      "sukachenko\n",
      "oleg\n",
      "krapiventsev\n",
      "sergey\n",
      "khokhlova\n",
      "olga\n",
      "volleyball\n",
      "harem\n",
      "supeheroes\n",
      "karuta\n",
      "poker\n",
      "cyberpunk\n",
      "dystopia\n",
      "gore\n",
      "koyuki\n",
      "maysuyama\n",
      "ken'ichi\n",
      "house\n"
     ]
    }
   ],
   "source": [
    "##tokenize genresTxt and remove stop words \n",
    "\n",
    "##create stopwords \n",
    "stopList = stopwords.words('english')\n",
    "stopList.extend([\",\",\"/\"])\n",
    "stopList.append(\"unknown\")\n",
    "\n",
    "##tokenize \n",
    "genreTokenL = nltk.word_tokenize(genresTxt)\n",
    "\n",
    "##remove stop words from token page \n",
    "no_stop_genre_tokens = [w for w in genreTokenL if w.lower() not in stopList]\n",
    "\n",
    "##show frequency of tokens \n",
    "genreLUnigram = nltk.ngrams(no_stop_genre_tokens, 1)\n",
    "genreUnigramList = list(genreLUnigram)\n",
    "unigramFreq = nltk.FreqDist(genreUnigramList)\n",
    "\n",
    "topTen = unigramFreq.most_common(20)\n",
    "\n",
    "\"\"\"for unigramObj in topTen:\n",
    "    unigram = unigramObj[0] #get a tuple like list of the makeup of unigram (one val)\n",
    "    print(unigram[0])\n",
    "\"\"\"\n",
    "print(unigramFreq[\"drama\"])\n",
    "\n",
    "#test: inverse of most common -> least common \n",
    "n = 20\n",
    "lastTwenty = unigramFreq.most_common()[:-n-1:-1]\n",
    "for unigramObj in lastTwenty:\n",
    "    unigram = unigramObj[0]\n",
    "    print(unigram[0])\n"
   ]
  },
  {
   "cell_type": "markdown",
   "id": "ca7f01e0",
   "metadata": {
    "heading_collapsed": true
   },
   "source": [
    "## ignore: Directory stuff "
   ]
  },
  {
   "cell_type": "code",
   "execution_count": 36,
   "id": "e818781b",
   "metadata": {
    "hidden": true
   },
   "outputs": [
    {
     "name": "stdout",
     "output_type": "stream",
     "text": [
      "folder: 'useless' was removed from cwd\n",
      "done\n"
     ]
    }
   ],
   "source": [
    "#test: remove directory \n",
    "\n",
    "import os \n",
    "import shutil\n",
    "\n",
    "try: \n",
    "    shutil.rmtree(\"useless\")\n",
    "    print(\"folder: 'useless' was removed from cwd\")\n",
    "except OSError as e:\n",
    "    print(\"Error: %s - %s.\" % (e.filename, e.strerror))\n",
    "\n",
    "print(\"done\")"
   ]
  },
  {
   "cell_type": "markdown",
   "id": "aee082cd",
   "metadata": {},
   "source": [
    "## GOAL: Print parts of data (for slides) "
   ]
  },
  {
   "cell_type": "markdown",
   "id": "3eddd52a",
   "metadata": {
    "heading_collapsed": true
   },
   "source": [
    "### printing out amount of movies in each genre "
   ]
  },
  {
   "cell_type": "code",
   "execution_count": 42,
   "id": "eb62d381",
   "metadata": {
    "hidden": true
   },
   "outputs": [
    {
     "name": "stdout",
     "output_type": "stream",
     "text": [
      "western 250\n",
      "comedy 250\n",
      "drama 250\n",
      "adventure 250\n",
      "horror 250\n",
      "fantasy 204\n",
      "mystery 250\n",
      "romance 250\n",
      "thriller 250\n",
      "action 250\n",
      "2454\n"
     ]
    }
   ],
   "source": [
    "total = 0\n",
    "for genreO in genre_plot:\n",
    "    genreL = genre_plot[genreO]\n",
    "    print(genreO, len(genreL))\n",
    "    total += len(genreL)\n",
    "print(total)"
   ]
  },
  {
   "cell_type": "markdown",
   "id": "d0e2d69b",
   "metadata": {
    "heading_collapsed": true
   },
   "source": [
    "### other smaller stuff"
   ]
  },
  {
   "cell_type": "code",
   "execution_count": null,
   "id": "dd2eeb9a",
   "metadata": {
    "hidden": true
   },
   "outputs": [],
   "source": [
    "print(len(genre_plot[\"comedy\"]))"
   ]
  },
  {
   "cell_type": "markdown",
   "id": "1acdc945",
   "metadata": {
    "hidden": true
   },
   "source": [
    "print out in a line a csv row of data \n",
    "- using: dataFrame obj \n",
    "    - to call: `dataframe[\"Column\"][Index]`"
   ]
  },
  {
   "cell_type": "code",
   "execution_count": 47,
   "id": "492d7938",
   "metadata": {
    "hidden": true
   },
   "outputs": [
    {
     "name": "stdout",
     "output_type": "stream",
     "text": [
      "Release Year\n",
      "Title\n",
      "Origin/Ethnicity\n",
      "Director\n",
      "Cast\n",
      "Genre\n",
      "Wiki Page\n",
      "Plot\n"
     ]
    }
   ],
   "source": [
    "#prints the coloumns in csv\n",
    "#print(dataFrame)\n",
    "movieRow = \"\"\n",
    "for column in dataFrame:\n",
    "    print(column)"
   ]
  },
  {
   "cell_type": "code",
   "execution_count": 48,
   "id": "be238cec",
   "metadata": {
    "hidden": true
   },
   "outputs": [
    {
     "name": "stdout",
     "output_type": "stream",
     "text": [
      "1901\n"
     ]
    }
   ],
   "source": [
    "movieRow = \"\"\n",
    "for index,row in dataFrame.iterrows():\n",
    "    print(row.iloc[0])\n",
    "    break"
   ]
  },
  {
   "cell_type": "code",
   "execution_count": 49,
   "id": "c800653e",
   "metadata": {
    "hidden": true
   },
   "outputs": [
    {
     "name": "stdout",
     "output_type": "stream",
     "text": [
      "Release Year                                                     1901\n",
      "Title                                          Kansas Saloon Smashers\n",
      "Origin/Ethnicity                                             American\n",
      "Director                                                      Unknown\n",
      "Cast                                                              NaN\n",
      "Genre                                                         unknown\n",
      "Wiki Page           https://en.wikipedia.org/wiki/Kansas_Saloon_Sm...\n",
      "Plot                A bartender is working at a saloon, serving dr...\n",
      "Name: 0, dtype: object\n"
     ]
    }
   ],
   "source": [
    "\n",
    "#to print movie/row info -> dataframe.iloc[0]\n",
    "    #and index aka movie index in csv \n",
    "print(dataFrame.iloc[0])"
   ]
  },
  {
   "cell_type": "markdown",
   "id": "e304673f",
   "metadata": {
    "heading_collapsed": true
   },
   "source": [
    "### Print out tokens sheet "
   ]
  },
  {
   "cell_type": "code",
   "execution_count": null,
   "id": "83523d2c",
   "metadata": {
    "hidden": true
   },
   "outputs": [],
   "source": [
    "def getTokens():\n",
    "    tokensR = {}\n",
    "    for curGenre in selected_genres:\n",
    "        plotsList = genre_plot[curGenre]\n",
    "        genresTexts = \" \".join(plotsList) #now text chunk\n",
    "        #remove spacing\n",
    "        genresTexts = re.sub(r'[\\n|\\s]+', ' ', genresTexts)\n",
    "        genresTexts = remove_nested_brackets(genresTexts)\n",
    "        #tokenize\n",
    "        tokens = nltk.word_tokenize(genresTexts)\n",
    "        #remove stop words \n",
    "        noStop_tokens = [w for w in tokens if w.lower() not in stopList]\n",
    "        #add into compiled dictionary of genre paired with it's tokens (type can be specified)\n",
    "        tokensR[curGenre] = noStop_tokens\n",
    "    return tokensR\n",
    "def printTokens(myDict, genre1, n):\n",
    "    for i in range(n):\n",
    "        print(myDict[genre1][i], end=\" \")\n",
    "print(\"ini: tokens funct done\")\n",
    "#note: make sure genre_plot has been properly initialized (at top)"
   ]
  },
  {
   "cell_type": "code",
   "execution_count": null,
   "id": "bfc7c8c5",
   "metadata": {
    "hidden": true
   },
   "outputs": [],
   "source": [
    "#generate token dictionary (takes some time)\n",
    "tokensDictionary = getTokens()\n",
    "print(\"token dictionary created\")"
   ]
  },
  {
   "cell_type": "code",
   "execution_count": null,
   "id": "e0f80ca7",
   "metadata": {
    "hidden": true
   },
   "outputs": [],
   "source": [
    "secretGenre = \"horror\"\n",
    "printTokens(tokensDictionary, secretGenre, 250)"
   ]
  },
  {
   "cell_type": "markdown",
   "id": "c8a47255",
   "metadata": {},
   "source": [
    "## end"
   ]
  },
  {
   "cell_type": "markdown",
   "id": "c8f85c71",
   "metadata": {},
   "source": [
    "## goal: test word2vec\n",
    "- note: might need to install gensim first.. \n",
    "- download and place this file in dir: [google news vector](https://github.com/eyaler/word2vec-slim/blob/master/GoogleNews-vectors-negative300-SLIM.bin.gz) "
   ]
  },
  {
   "cell_type": "markdown",
   "id": "2496bf5f",
   "metadata": {
    "heading_collapsed": true
   },
   "source": [
    "### download zip ONLY IF NEEDED STILL (fresh git clone from rep)"
   ]
  },
  {
   "cell_type": "code",
   "execution_count": null,
   "id": "1cc1bb07",
   "metadata": {
    "hidden": true
   },
   "outputs": [],
   "source": [
    "#download the file.. (doesn't fit into rep)\n",
    "from urllib.request import urlretrieve\n",
    "url = (\n",
    "     \"https://github.com/eyaler/word2vec-slim/raw/master/GoogleNews-vectors-negative300-SLIM.bin.gz?download=\")\n",
    "filename = \"GoogleNews-vectors-negative300-SLIM.bin.gz\"\n",
    "urlretrieve(url,filename)"
   ]
  },
  {
   "cell_type": "markdown",
   "id": "f6887795",
   "metadata": {},
   "source": [
    "### importing model and ini funciton to MAKE word2vec graph "
   ]
  },
  {
   "cell_type": "code",
   "execution_count": null,
   "id": "34a53c96",
   "metadata": {},
   "outputs": [],
   "source": [
    "import gensim\n",
    "from gensim.models import Word2Vec\n",
    "\n",
    "bigmodel = gensim.models.KeyedVectors.load_word2vec_format(\"GoogleNews-vectors-negative300-SLIM.bin.gz\", binary=True)\n",
    "print(\"Google News Model Loaded!\")\n"
   ]
  },
  {
   "cell_type": "code",
   "execution_count": null,
   "id": "63a9a16c",
   "metadata": {},
   "outputs": [],
   "source": [
    "%matplotlib inline\n",
    "import numpy as np\n",
    "import matplotlib.pyplot as plt\n",
    "from sklearn.decomposition import PCA\n",
    "\n",
    "from gensim.models import Word2Vec\n",
    "\n",
    "#bigmodel -> google news model downloaded earlier \n",
    "\n",
    "def createWordVecGraph(wordpairs, dupes):\n",
    "    # Go get the word vectors for these words and \n",
    "    # then store them so you can use them later on.\n",
    "    vecwords = []  # stores the words above\n",
    "    vecs = []      # stores the vectors for each word\n",
    "    for k,v in wordpairs.items():\n",
    "        kvec = bigmodel[k]\n",
    "        vvec = bigmodel[v]\n",
    "        vecs.append(kvec)\n",
    "        vecwords.append(k)\n",
    "        vecs.append(vvec)\n",
    "        vecwords.append(v)\n",
    "\n",
    "    # PCA is a way to project multiple dimensions down to \n",
    "    # fewer dimensions, which we are doing here so we can \n",
    "    # visualize the word vectors.\n",
    "    pca = PCA(n_components=2, whiten=True)\n",
    "    vectors2d = pca.fit(vecs).transform(vecs) \n",
    "\n",
    "    \n",
    "    #fix matplot lib sizing using figsize to control figure \n",
    "    fig, ax = plt.subplots(figsize=(15,7))\n",
    "    \n",
    "    # This is just some ugly matplotlib code for plotting\n",
    "    # the 2-D vectors and visualizing them with different colors.\n",
    "    i = 2\n",
    "    for point, word in zip(vectors2d, vecwords):\n",
    "        if word in dupes:\n",
    "            ax.scatter(point[0], point[1], c='black')\n",
    "        elif i%2 == 0:\n",
    "            ax.scatter(point[0], point[1], c='r')\n",
    "        else:\n",
    "            ax.scatter(point[0], point[1], c='b')\n",
    "        i += 1\n",
    "        ax.annotate(\n",
    "                word, \n",
    "                xy=(point[0], point[1]),\n",
    "                xytext=(7, 6),\n",
    "                textcoords='offset points',\n",
    "                ha='left' ,\n",
    "                va='top',\n",
    "                size=\"medium\"\n",
    "                )\n",
    "print(\"word2vec graph function initialized!\")"
   ]
  },
  {
   "cell_type": "markdown",
   "id": "be1cc62b",
   "metadata": {},
   "source": [
    "### get word pairs from 2 genre's (top X freq) lists "
   ]
  },
  {
   "cell_type": "code",
   "execution_count": 181,
   "id": "99406da8",
   "metadata": {},
   "outputs": [],
   "source": [
    "topWhatNum = 17\n",
    "genreUnigrams = nameFilteredUnigram(topWhatNum, False) #set false to not print out unigrams \n",
    "#note: no need to run bottom code block if it has been ini already!"
   ]
  },
  {
   "cell_type": "code",
   "execution_count": null,
   "id": "a7a6632f",
   "metadata": {},
   "outputs": [],
   "source": [
    "#basically get a dictionary from the popular variable -> genreUnigrams obj \n",
    "    #(note: this variable can be changed by 2 different sections of code)\n",
    "    #can choose to use general filter or extensive filter to create genreUnigrams obj \n",
    "#takes 2 strings representing the genres available and returns dict obj\n",
    "#genreUnigrams -> note: can now use funct to create dict based on own terms (SEE ABOVE)\n",
    "\n",
    "def getTwoDictionary(genre1, genre2):\n",
    "    twoDict = {}\n",
    "    genreList1 = genreUnigrams[genre1][1]\n",
    "    genreList2 = genreUnigrams[genre2][1]\n",
    "    for i in range(len(genreList1)):\n",
    "        curVal1 = genreList1[i]\n",
    "        curVal2 = genreList2[i]\n",
    "        twoDict[curVal1] = curVal2\n",
    "    return twoDict\n",
    "print(\"ini: word2vec funct to generate top 10 in 2 genres dict\")"
   ]
  },
  {
   "cell_type": "markdown",
   "id": "206b8b27",
   "metadata": {},
   "source": [
    "### Assign Word Pairs Here: \n",
    "- then the function is called to make the graph"
   ]
  },
  {
   "cell_type": "code",
   "execution_count": 480,
   "id": "58f041ff",
   "metadata": {},
   "outputs": [
    {
     "name": "stdout",
     "output_type": "stream",
     "text": [
      "key-values in dict: 20\n",
      "shared tokens: 9\n",
      "manual search: \n",
      "police     police  \n",
      "car        killed  \n",
      "house      gang    \n",
      "killed     kill    \n",
      "finds      car     \n",
      "kill       fight   \n",
      "death      escape  \n",
      "apartment  death   \n",
      "takes      kills   \n",
      "murder     takes   \n",
      "room       finds   \n",
      "night      group   \n",
      "money      killing \n",
      "dead       named   \n",
      "time       friend  \n",
      "life       drug    \n",
      "killing    local   \n",
      "leaves     shot    \n",
      "leave      time    \n",
      "day        team    \n"
     ]
    },
    {
     "data": {
      "image/png": "[encoded data removed]",
      "text/plain": [
       "<Figure size 1500x700 with 1 Axes>"
      ]
     },
     "metadata": {},
     "output_type": "display_data"
    }
   ],
   "source": [
    "def printKeyValueInWordPair(localDict):\n",
    "    for key in localDict:\n",
    "        pairStr = key + localDict[key]\n",
    "        print(\"{:10} {:8}\".format(key, localDict[key]))\n",
    "def dupeList(localDict):\n",
    "    l1 = list(localDict.keys())\n",
    "    l2 = list(localDict.values())\n",
    "    shared = [token for token in l1 if token in l2]\n",
    "    return shared\n",
    "\n",
    "        \n",
    "#Options: comedy, drama, adventure, fantasy, horror, mystery, romance,action, thriller, western\n",
    "\n",
    "#wordPairs = getTwoDictionary(\"western\",\"romance\") #interesting result with 20 values\n",
    "#wordPairs = getTwoDictionary(\"action\",\"adventure\") #predicatble w/10, less so w/20\n",
    "wordPairs = getTwoDictionary(\"thriller\", \"action\")\n",
    "dupeL = dupeList(wordPairs)\n",
    "\n",
    "#print usefull text \n",
    "print(\"key-values in dict:\", len(wordPairs))\n",
    "print(\"shared tokens:\", len(dupeL))\n",
    "print(\"manual search: \")\n",
    "#print(dupeList(wordPairs))\n",
    "printKeyValueInWordPair(wordPairs) #comment out if list is too much\n",
    "\n",
    "createWordVecGraph(wordPairs, dupeL)"
   ]
  },
  {
   "cell_type": "markdown",
   "id": "7c10e943",
   "metadata": {},
   "source": [
    "\n",
    "### Generate dictionary (manual)\n",
    "- takes input from user to create plaintext in python dictionary format to set wordPairs var above\n",
    "- note: basically not needed to compare genres anymore, still useful if copy and pasting random or not yet considered text (outside of genre freq list\""
   ]
  },
  {
   "cell_type": "code",
   "execution_count": 33,
   "id": "0e778049",
   "metadata": {
    "scrolled": true
   },
   "outputs": [
    {
     "name": "stdout",
     "output_type": "stream",
     "text": [
      "police killed gang kill car fight escape death kills takes\n",
      "ship love King island crew takes Tarzan time killed finds\n"
     ]
    }
   ],
   "source": [
    "# take input and print out the key value thingie \n",
    "\n",
    "a1 = input()\n",
    "a2 = input()"
   ]
  },
  {
   "cell_type": "code",
   "execution_count": 34,
   "id": "b0b11f76",
   "metadata": {},
   "outputs": [
    {
     "name": "stdout",
     "output_type": "stream",
     "text": [
      "\"police\":\"ship\",  \"killed\":\"love\",  \"gang\":\"King\",  \"kill\":\"island\",  \"car\":\"crew\",  \"fight\":\"takes\",  \"escape\":\"Tarzan\",  \"death\":\"time\",  \"kills\":\"killed\",  \"takes\":\"finds\"\n"
     ]
    }
   ],
   "source": [
    "a1L = a1.split(\" \")\n",
    "a2L = a2.split(\" \")\n",
    "\n",
    "myPair = ''\n",
    "for i in range(len(a1L)):\n",
    "    myPair += '\"' + a1L[i] + '\"' + \":\" + '\"' + a2L[i] + '\"' + \",  \"\n",
    "myPair = myPair[:-3]\n",
    "print(myPair)\n"
   ]
  },
  {
   "cell_type": "code",
   "execution_count": null,
   "id": "21bfef5c",
   "metadata": {},
   "outputs": [],
   "source": []
  }
 ],
 "metadata": {
  "kernelspec": {
   "display_name": "Python 3 (ipykernel)",
   "language": "python",
   "name": "python3"
  },
  "language_info": {
   "codemirror_mode": {
    "name": "ipython",
    "version": 3
   },
   "file_extension": ".py",
   "mimetype": "text/x-python",
   "name": "python",
   "nbconvert_exporter": "python",
   "pygments_lexer": "ipython3",
   "version": "3.11.5"
  }
 },
 "nbformat": 4,
 "nbformat_minor": 5
}
